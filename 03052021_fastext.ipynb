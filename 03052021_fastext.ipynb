{
 "cells": [
  {
   "cell_type": "markdown",
   "id": "d52cb2f2",
   "metadata": {},
   "source": [
    "<h2>Compare new sentences with a list of fixed words,<br/>\n",
    "    using fastText word embeddings</h2>"
   ]
  },
  {
   "cell_type": "code",
   "execution_count": 5,
   "id": "f9a91c4c",
   "metadata": {},
   "outputs": [],
   "source": [
    "import fasttext\n",
    "import fasttext.util\n",
    "import numpy as np\n",
    "from collections import OrderedDict\n",
    "from operator import itemgetter"
   ]
  },
  {
   "cell_type": "code",
   "execution_count": 2,
   "id": "b705fcdf",
   "metadata": {},
   "outputs": [],
   "source": [
    "def cosine_similarity(a, b):\n",
    "    \"\"\"\n",
    "    Takes 2 vectors a, b and returns the cosine similarity according \n",
    "    to the definition of the dot product\n",
    "    (https://masongallo.github.io/machine/learning,/python/2016/07/29/cosine-similarity.html)\n",
    "    \"\"\"\n",
    "    dot_product = np.dot(a, b)\n",
    "    norm_a = np.linalg.norm(a)\n",
    "    norm_b = np.linalg.norm(b)\n",
    "    return dot_product / (norm_a * norm_b)"
   ]
  },
  {
   "cell_type": "code",
   "execution_count": 3,
   "id": "728ff1f2",
   "metadata": {},
   "outputs": [],
   "source": [
    "def compare_sentence(s, words_vectors):\n",
    "    \"\"\"\n",
    "    Compare new sentence/word with those in the words vectors dictionary\n",
    "    \"\"\"\n",
    "    vec=ft.get_sentence_vector(s)\n",
    "    dic=OrderedDict({w1:cosine_similarity(vec,vec1) for w1,vec1 in words_vectors.items()})\n",
    "    return sorted(dic.items(), key=itemgetter(1), reverse=True)"
   ]
  },
  {
   "cell_type": "code",
   "execution_count": null,
   "id": "72df6452",
   "metadata": {},
   "outputs": [],
   "source": []
  },
  {
   "cell_type": "code",
   "execution_count": 6,
   "id": "fd5633bc",
   "metadata": {},
   "outputs": [],
   "source": [
    "# download pretrained English model\n",
    "fasttext.util.download_model('en', if_exists='ignore')  # English\n",
    "ft = fasttext.load_model('cc.en.300.bin')"
   ]
  },
  {
   "cell_type": "code",
   "execution_count": 8,
   "id": "8a25a6c9",
   "metadata": {},
   "outputs": [],
   "source": [
    "# define words list\n",
    "words_list=[ \"fruit\", \"metal\", \"books\"]"
   ]
  },
  {
   "cell_type": "code",
   "execution_count": 9,
   "id": "462d7514",
   "metadata": {},
   "outputs": [],
   "source": [
    "# word vectors obtained from list\n",
    "words_vectors={w:ft.get_word_vector(w) for  w in words_list}"
   ]
  },
  {
   "cell_type": "code",
   "execution_count": 11,
   "id": "48f3249b",
   "metadata": {},
   "outputs": [
    {
     "data": {
      "text/plain": [
       "[('fruit', 0.49017134), ('metal', 0.26521403), ('books', 0.1630114)]"
      ]
     },
     "execution_count": 11,
     "metadata": {},
     "output_type": "execute_result"
    }
   ],
   "source": [
    "compare_sentence('I like pineapple juice', words_vectors)"
   ]
  },
  {
   "cell_type": "code",
   "execution_count": 12,
   "id": "d2df83fe",
   "metadata": {},
   "outputs": [
    {
     "data": {
      "text/plain": [
       "[('metal', 0.36723247), ('fruit', 0.27444276), ('books', 0.09892692)]"
      ]
     },
     "execution_count": 12,
     "metadata": {},
     "output_type": "execute_result"
    }
   ],
   "source": [
    "compare_sentence('iron extraction is a dangerous activity', words_vectors)"
   ]
  },
  {
   "cell_type": "code",
   "execution_count": 13,
   "id": "66d604a9",
   "metadata": {},
   "outputs": [
    {
     "data": {
      "text/plain": [
       "[('books', 0.22377338), ('metal', 0.109032266), ('fruit', 0.07240309)]"
      ]
     },
     "execution_count": 13,
     "metadata": {},
     "output_type": "execute_result"
    }
   ],
   "source": [
    "compare_sentence('Alice in Wonderland was written in 1865 by Lewis Carroll', words_vectors)"
   ]
  }
 ],
 "metadata": {
  "kernelspec": {
   "display_name": "Python 3",
   "language": "python",
   "name": "python3"
  },
  "language_info": {
   "codemirror_mode": {
    "name": "ipython",
    "version": 3
   },
   "file_extension": ".py",
   "mimetype": "text/x-python",
   "name": "python",
   "nbconvert_exporter": "python",
   "pygments_lexer": "ipython3",
   "version": "3.8.1"
  }
 },
 "nbformat": 4,
 "nbformat_minor": 5
}
